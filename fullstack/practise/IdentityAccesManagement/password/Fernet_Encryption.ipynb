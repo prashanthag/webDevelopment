{
 "cells": [
  {
   "cell_type": "markdown",
   "metadata": {
    "graffitiCellId": "id_wdug686"
   },
   "source": [
    "> TIP: Remember, code with dotted lines has a tool tip and voice walkthrough!"
   ]
  },
  {
   "cell_type": "code",
   "execution_count": 7,
   "metadata": {
    "graffitiCellId": "id_hy3x04l"
   },
   "outputs": [],
   "source": [
    "# Import Package\n",
    "from cryptography.fernet import Fernet"
   ]
  },
  {
   "cell_type": "code",
   "execution_count": 8,
   "metadata": {
    "graffitiCellId": "id_ojhrtp0"
   },
   "outputs": [
    {
     "name": "stdout",
     "output_type": "stream",
     "text": [
      "b'8cozhW9kSi5poZ6TWFuMCV123zg-9NORTs3gJq_J5Do='\n"
     ]
    }
   ],
   "source": [
    "# Generate a Key and Instantiate a Fernet Instance\n",
    "#key = Fernet.generate_key()\n",
    "key =b'8cozhW9kSi5poZ6TWFuMCV123zg-9NORTs3gJq_J5Do='\n",
    "f = Fernet(key)\n",
    "print(key)"
   ]
  },
  {
   "cell_type": "code",
   "execution_count": 9,
   "metadata": {
    "graffitiCellId": "id_6c7hjw4"
   },
   "outputs": [],
   "source": [
    "# Define our message\n",
    "plaintext = b\"encryption is very useful\""
   ]
  },
  {
   "cell_type": "code",
   "execution_count": 10,
   "metadata": {
    "graffitiCellId": "id_595rfih"
   },
   "outputs": [
    {
     "name": "stdout",
     "output_type": "stream",
     "text": [
      "b'gAAAAABeoS1RkzIlb3O7d6N5boPgH7lbjTjT8e9DzkL_wIygTRHeBiNgEuZnE7JxotFDui2eUerQASd3E2xdEiNcu3PFmjrtGir62zlLuG60j8zdmyundLs='\n"
     ]
    }
   ],
   "source": [
    "# Encrypt\n",
    "ciphertext = f.encrypt(plaintext)\n",
    "print(ciphertext)"
   ]
  },
  {
   "cell_type": "code",
   "execution_count": 12,
   "metadata": {
    "graffitiCellId": "id_v8jg1f4"
   },
   "outputs": [
    {
     "name": "stdout",
     "output_type": "stream",
     "text": [
      "b'great job! remember, encryption is only as good as your key secrecy!'\n"
     ]
    }
   ],
   "source": [
    "# Decrypt\n",
    "\n",
    "ciphertext = b'gAAAAABc8Wf3rxaime-363wbhCaIe1FoZUdnFeIXX_Nh9qKSDkpBFPqK8L2HbkM8NCQAxY8yOWbjxzMC4b5uCaeEpqDYCRNIhnqTK8jfzFYfPdozf7NPvGzNBwuuvIxK5NZYJbxQwfK72BNrZCKpfp6frL8m8pdgYbLNFcy6jCJBXATR3gHBb0Y='\n",
    "\n",
    "decryptedtext = f.decrypt(ciphertext)\n",
    "print(decryptedtext)"
   ]
  },
  {
   "cell_type": "code",
   "execution_count": null,
   "metadata": {
    "graffitiCellId": "id_obd44np"
   },
   "outputs": [],
   "source": []
  }
 ],
 "metadata": {
  "graffiti": {
   "firstAuthorId": "10489997357",
   "id": "id_10h5nnh",
   "language": "EN"
  },
  "kernelspec": {
   "display_name": "Python 3",
   "language": "python",
   "name": "python3"
  },
  "language_info": {
   "codemirror_mode": {
    "name": "ipython",
    "version": 3
   },
   "file_extension": ".py",
   "mimetype": "text/x-python",
   "name": "python",
   "nbconvert_exporter": "python",
   "pygments_lexer": "ipython3",
   "version": "3.6.3"
  }
 },
 "nbformat": 4,
 "nbformat_minor": 2
}
