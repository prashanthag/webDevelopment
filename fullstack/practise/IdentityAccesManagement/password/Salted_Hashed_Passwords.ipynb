{
 "cells": [
  {
   "cell_type": "code",
   "execution_count": 1,
   "metadata": {
    "graffitiCellId": "id_o5zz5un"
   },
   "outputs": [
    {
     "output_type": "stream",
     "name": "stdout",
     "text": "Collecting bcrypt\n  Downloading bcrypt-3.1.7-cp34-abi3-manylinux1_x86_64.whl (56 kB)\n\u001b[K     |████████████████████████████████| 56 kB 2.2 MB/s \n\u001b[?25hRequirement already satisfied: cffi>=1.1 in /home/ina/.envs/3.8/lib/python3.8/site-packages (from bcrypt) (1.14.0)\nRequirement already satisfied: six>=1.4.1 in /home/ina/.envs/3.8/lib/python3.8/site-packages (from bcrypt) (1.14.0)\nRequirement already satisfied: pycparser in /home/ina/.envs/3.8/lib/python3.8/site-packages (from cffi>=1.1->bcrypt) (2.20)\nInstalling collected packages: bcrypt\nSuccessfully installed bcrypt-3.1.7\n"
    }
   ],
   "source": [
    "# Import the Python Library\n",
    "import sys\n",
    "!{sys.executable} -m pip install bcrypt\n",
    "import bcrypt"
   ]
  },
  {
   "cell_type": "code",
   "execution_count": 2,
   "metadata": {
    "graffitiCellId": "id_ewiz7ij"
   },
   "outputs": [],
   "source": [
    "password = b\"studyhard\""
   ]
  },
  {
   "cell_type": "code",
   "execution_count": 3,
   "metadata": {
    "graffitiCellId": "id_okz0ahc"
   },
   "outputs": [
    {
     "output_type": "stream",
     "name": "stdout",
     "text": "b'$2b$14$qiaZ8HnHU6awHuRAqjb/yu'\nb'$2b$14$qiaZ8HnHU6awHuRAqjb/yuiKdsMEUM8PXwfr6MqrIAKkQNmEm/zC6'\n"
    }
   ],
   "source": [
    "# Hash a password for the first time, with a certain number of rounds\n",
    "salt = bcrypt.gensalt(14)\n",
    "hashed = bcrypt.hashpw(password, salt)\n",
    "print(salt)\n",
    "print(hashed)"
   ]
  },
  {
   "cell_type": "code",
   "execution_count": 4,
   "metadata": {
    "graffitiCellId": "id_vve0col"
   },
   "outputs": [
    {
     "output_type": "execute_result",
     "data": {
      "text/plain": "True"
     },
     "metadata": {},
     "execution_count": 4
    }
   ],
   "source": [
    "# Check a plain text string against the salted, hashed digest\n",
    "bcrypt.checkpw(password, hashed)"
   ]
  }
 ],
 "metadata": {
  "graffiti": {
   "firstAuthorId": "10489997357",
   "id": "id_owkala1",
   "language": "EN"
  },
  "kernelspec": {
   "display_name": "Python 3",
   "language": "python",
   "name": "python3"
  },
  "language_info": {
   "codemirror_mode": {
    "name": "ipython",
    "version": 3
   },
   "file_extension": ".py",
   "mimetype": "text/x-python",
   "name": "python",
   "nbconvert_exporter": "python",
   "pygments_lexer": "ipython3",
   "version": "3.8.0-final"
  }
 },
 "nbformat": 4,
 "nbformat_minor": 2
}